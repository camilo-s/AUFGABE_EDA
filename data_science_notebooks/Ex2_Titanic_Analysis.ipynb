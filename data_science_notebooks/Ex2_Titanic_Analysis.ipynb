{
 "cells": [
  {
   "cell_type": "markdown",
   "metadata": {},
   "source": [
    "### 1. Libraries and packages\n",
    "#### Exercise 1\n",
    "********************\n",
    "To be able to use some functions we need to load the required packages in our workspace. Run the following cell. \n",
    "********************"
   ]
  },
  {
   "cell_type": "code",
   "execution_count": null,
   "metadata": {},
   "outputs": [],
   "source": [
    "import os\n",
    "import pandas as pd\n",
    "import numpy as np\n",
    "\n",
    "from sklearn import preprocessing\n",
    "from sklearn import metrics\n",
    "from sklearn.linear_model import LogisticRegression\n",
    "from sklearn.model_selection import train_test_split\n",
    "from sklearn.ensemble import RandomForestClassifier\n",
    "from sklearn import tree\n",
    "\n",
    "import statsmodels.api as sm\n",
    "from scipy import stats\n",
    "\n",
    "stats.chisqprob = lambda chisq, df: stats.chi2.sf(chisq, df)\n",
    "#stats.chi2 - A chi-squared continuous random variable.\n",
    "#.sf - Survival function (also defined as 1 - cdf (Cumulative distribution function), but sf is sometimes more accurate).\n",
    "\n",
    "import matplotlib.pyplot as plt \n",
    "plt.rc(\"font\", size=14)\n",
    "import seaborn as sns\n",
    "sns.set(style=\"white\") #white background  style for seaborn plots\n",
    "sns.set(style=\"whitegrid\", color_codes=True)"
   ]
  },
  {
   "cell_type": "markdown",
   "metadata": {},
   "source": [
    "### 2. Data Access\n",
    "#### Exercise 2\n",
    "********************\n",
    "Find a function to read the files \"train.csv\" and \"test.csv\". Then look at the output of the first 5 lines of the files (_Hint:_ **_DataFrame_.head(...)** may be helpful). What do you notice?\n",
    "********************"
   ]
  },
  {
   "cell_type": "code",
   "execution_count": null,
   "metadata": {},
   "outputs": [],
   "source": [
    "# Get current working directory\n",
    "#os.getcwd()\n",
    "# Change directory if required\n",
    "#os.chdir('REPLACE PATH HERE')\n",
    "\n",
    "#---------------------------------Exercise 2---------------------------------------------------\n",
    "#get titanic train & test csv files as a DataFrame\n",
    "\n",
    "#train data \n",
    "titanic_train_df = #TO DO\n",
    "#test data \n",
    "titanic_test_df = #TO DO"
   ]
  },
  {
   "cell_type": "code",
   "execution_count": null,
   "metadata": {
    "collapsed": true
   },
   "outputs": [],
   "source": [
    "# preview train data\n",
    "#TO DO"
   ]
  },
  {
   "cell_type": "markdown",
   "metadata": {},
   "source": [
    "#### Data Dictionary \n",
    "Here you can find a description of the *columns*.\n",
    "<br><br>\n",
    "*survival*: Survival 0 = No, 1 = Yes \n",
    "<br>\n",
    "*pclass*: Ticket class 1 = 1st (Upper), 2 = 2nd (Middle), 3 = 3rd (Lower)\n",
    "<br>\n",
    "*sex*: Sex male/female \n",
    "<br>\n",
    "*Age*: Age in years (is fractional if less than 1)\n",
    "<br>\n",
    "*sibsp*: number of siblings (brother, sister, stepbrother, stepsister) / spouses (husband, wife) aboard the Titanic \n",
    "<br>\n",
    "*parch*: number of parents(mother, father) / children (daughter, son, stepdaughter, stepson) aboard the Titanic \n",
    "<br>\n",
    "*ticket*: Ticket number \n",
    "<br>\n",
    "*fare*: Passenger fare \n",
    "<br>\n",
    "*cabin*: Cabin number \n",
    "<br>\n",
    "*embarked*: Port of Embarkation C = Cherbourg, Q = Queenstown, S = Southampton"
   ]
  },
  {
   "cell_type": "code",
   "execution_count": null,
   "metadata": {},
   "outputs": [],
   "source": [
    "# preview test data\n",
    "#TO DO\n",
    "#----------------------------------------------------------------------------------------------"
   ]
  },
  {
   "cell_type": "markdown",
   "metadata": {},
   "source": [
    "### 3. Data Preparation\n",
    "We want to prepare our data for modeling and analyzing. \n",
    "#### Exercise 3.1.\n",
    "********************\n",
    "Check the two imported files for the number of so-called NULL values. _Hint:_ You could combine the functions **.isnull()** and **.sum()** for this...\n",
    "********************"
   ]
  },
  {
   "cell_type": "code",
   "execution_count": null,
   "metadata": {},
   "outputs": [],
   "source": [
    "#---------------------------------Exercise 3.1.------------------------------------------------\n",
    "# check missing values in train dataset\n",
    "#TO DO"
   ]
  },
  {
   "cell_type": "code",
   "execution_count": null,
   "metadata": {},
   "outputs": [],
   "source": [
    "# check missing values in test dataset\n",
    "#TO DO\n",
    "#----------------------------------------------------------------------------------------------"
   ]
  },
  {
   "cell_type": "markdown",
   "metadata": {},
   "source": [
    "#### Exercise 3.2.\n",
    "********************\n",
    "To find out how high the proportion of missing values is, you can divide the output by the number of Passengers...( _Hint:_ len() ). \n",
    "********************"
   ]
  },
  {
   "cell_type": "code",
   "execution_count": null,
   "metadata": {},
   "outputs": [],
   "source": [
    "#---------------------------------Exercise 3.2.------------------------------------------------\n",
    "\n",
    "# proportion of missing values in the train data\n",
    "#TO DO\n",
    "#----------------------------------------------------------------------------------------------"
   ]
  },
  {
   "cell_type": "markdown",
   "metadata": {},
   "source": [
    "#### Cabin \n",
    "~77% of records in the column 'Cabin' are missing. It is not wise to replace missing values by any value, so it's better to ignore this variable for prediction. \n",
    "\n",
    "#### Exercise 3.3.\n",
    "********************\n",
    "Let's drop the variable \"Cabin\" (see Cheat Sheet) and save teh new dataframe as 'titanic_train_df_adj'.\n",
    "********************"
   ]
  },
  {
   "cell_type": "code",
   "execution_count": null,
   "metadata": {},
   "outputs": [],
   "source": [
    "# drop the variable 'Cabin'\n",
    "titanic_train_df_adj = #TO DO"
   ]
  },
  {
   "cell_type": "markdown",
   "metadata": {
    "collapsed": true
   },
   "source": [
    "#### Age\n",
    "~20% of entries for passenger age and ~0.2% for 'Embarked' are missing. An idea would be to replace the missing values...\n",
    "\n",
    "\n",
    "#### Exercise 3.4.\n",
    "********************\n",
    "Let's see what the 'Age' variable looks like in general. Plot a histogram of the 'Age' variable. What can you say about the distribution of the variable?\n",
    "********************\n"
   ]
  },
  {
   "cell_type": "code",
   "execution_count": null,
   "metadata": {},
   "outputs": [],
   "source": [
    "#---------------------------------Exercise 3.4.------------------------------------------------\n",
    "# histogram of Age\n",
    "ax = #TO DO\n",
    "\n",
    "#----------------------------------------------------------------------------------------------\n",
    "# set axes \n",
    "ax.set(xlabel='Age', ylabel='Count')\n",
    "plt.show()"
   ]
  },
  {
   "cell_type": "markdown",
   "metadata": {
    "collapsed": true
   },
   "source": [
    "\"Age\" is right skewed, so using the mean to replace the NAs might give us biased results. To deal with this, we could use the median..\n",
    "#### Exercise 3.5.\n",
    "********************\n",
    "Compute the mean and the median of the variable and then replace the missing values ( _Hint:_ **mean(), median(), fillna(...)** may help you). \n",
    "********************"
   ]
  },
  {
   "cell_type": "code",
   "execution_count": null,
   "metadata": {},
   "outputs": [],
   "source": [
    "#---------------------------------Exercise 3.5.------------------------------------------------\n",
    "# compute mean\n",
    "#TO DO"
   ]
  },
  {
   "cell_type": "code",
   "execution_count": null,
   "metadata": {},
   "outputs": [],
   "source": [
    "# compute median\n",
    "#TO DO"
   ]
  },
  {
   "cell_type": "code",
   "execution_count": null,
   "metadata": {},
   "outputs": [],
   "source": [
    "# impute with 28 instead of NAs\n",
    "#TO DO\n",
    "#----------------------------------------------------------------------------------------------"
   ]
  },
  {
   "cell_type": "markdown",
   "metadata": {},
   "source": [
    "#### Embarked\n",
    "There are only 2 missing values for \"Embarked\", so we can just impute with the port where most people boarded.\n",
    "#### Exercise 3.6.\n",
    "********************\n",
    "Use the function **value_counts()** to count each value of the 'Embarked' variable. (An alternative could be the function **countplot()** in the package **seaborn** which visualize the counts of the values.) Then replace the missing values with the corresponding value.\n",
    "********************"
   ]
  },
  {
   "cell_type": "code",
   "execution_count": null,
   "metadata": {},
   "outputs": [],
   "source": [
    "#---------------------------------Exercise 3.6.------------------------------------------------\n",
    "# counts of values \n",
    "#TO DO"
   ]
  },
  {
   "cell_type": "code",
   "execution_count": null,
   "metadata": {},
   "outputs": [],
   "source": [
    "# optional countplot to visualize the counts\n",
    "#TO DO\n",
    "plt.show()"
   ]
  },
  {
   "cell_type": "markdown",
   "metadata": {},
   "source": [
    "'S' (Southhampton) is the port with the most passengers, so we will set the NAs to 'S'"
   ]
  },
  {
   "cell_type": "code",
   "execution_count": null,
   "metadata": {
    "collapsed": true
   },
   "outputs": [],
   "source": [
    "# impute with 'S' instead of NAs\n",
    "#TO DO\n",
    "#----------------------------------------------------------------------------------------------"
   ]
  },
  {
   "cell_type": "markdown",
   "metadata": {},
   "source": [
    "#### Exercise 3.7.\n",
    "********************\n",
    "A) Investigate how the function **np.where()** works. <br>\n",
    "B) **Create a new variable**\n",
    "SibSp = number of siblings/ spouses and Parch = number of parents/ children relate to travveling with family. For simplicity's sake let's create a new categorical variable \"TravelAlone\": whether (\"TravelAlone\" = 1) or not (\"TravelAlone\" = 0) that individual was traveling alone. <br> \n",
    "C) Drop \"SibSp\" and \"Parch\" after creating the new variable.\n",
    "********************"
   ]
  },
  {
   "cell_type": "code",
   "execution_count": null,
   "metadata": {},
   "outputs": [],
   "source": [
    "#---------------------------------Exercise 3.7.------------------------------------------------\n",
    "# create additional variable for traveling alone\n",
    "#TO DO"
   ]
  },
  {
   "cell_type": "code",
   "execution_count": null,
   "metadata": {},
   "outputs": [],
   "source": [
    "titanic_train_df_adj.head(5)"
   ]
  },
  {
   "cell_type": "code",
   "execution_count": null,
   "metadata": {
    "collapsed": true
   },
   "outputs": [],
   "source": [
    "# drop SibSp and Parch\n",
    "#TO DO\n",
    "#---------------------------------------------------------------------------------------------"
   ]
  },
  {
   "cell_type": "markdown",
   "metadata": {},
   "source": [
    "#### Data Transformation\n",
    "Let's encode nominal variables \"Sex\" and \"Embarked\"\n",
    "#### Exercise 3.8.\n",
    "********************\n",
    "We want to create dummy variables from the nominal variables \"Sex\" and \"Embarked\". <br> \n",
    "A) Since the \"Sex\" variable has only two values (male and female), we first change the type of the variable to 'category' and then encode the values to 0 and 1 (_Hint_: cat.codes) . Examine how **cat.codes** assign values. <br> \n",
    "B) Add a function (_Hint_: cheatsheet may help) to create dummy variables from \"Embarked\". <br> \n",
    "C) Examine the output and drop the unnecessary variables!\n",
    "********************"
   ]
  },
  {
   "cell_type": "code",
   "execution_count": null,
   "metadata": {},
   "outputs": [],
   "source": [
    "#---------------------------------Exercise 3.8.------------------------------------------------\n",
    "# make a copy of a DataFrame to have the changes in a new version and save the \"original\" values\n",
    "titanic_train_df_adj_2 = titanic_train_df_adj.copy()\n",
    "# A\n",
    "# change type and encode 'Sex' to 1 = male, 0 = female\n",
    "titanic_train_df_adj_2[\"Sex\"] = #TO DO\n",
    "titanic_train_df_adj_2[\"Sex_male\"] = #TO DO\n",
    "\n",
    "# B\n",
    "# create dummy variables of 'Embarked' \n",
    "titanic_train_df_adj_2 = #TO DO\n",
    "# C - examine\n",
    "#TO DO"
   ]
  },
  {
   "cell_type": "markdown",
   "metadata": {},
   "source": [
    "Drop unnecessary variables"
   ]
  },
  {
   "cell_type": "code",
   "execution_count": null,
   "metadata": {},
   "outputs": [],
   "source": [
    "# C - drop\n",
    "#TO DO\n",
    "#---------------------------------------------------------------------------------------------"
   ]
  },
  {
   "cell_type": "code",
   "execution_count": null,
   "metadata": {},
   "outputs": [],
   "source": [
    "train_final = titanic_train_df_adj_2\n",
    "train_final.head(5)"
   ]
  },
  {
   "cell_type": "markdown",
   "metadata": {},
   "source": [
    "#### Exercise 3.9.\n",
    "********************\n",
    "Understand the following lines and run the code to make the same changes in **test data** .\n",
    "********************"
   ]
  },
  {
   "cell_type": "code",
   "execution_count": null,
   "metadata": {
    "collapsed": true
   },
   "outputs": [],
   "source": [
    "#---------------------------------Exercise 3.9.------------------------------------------------\n",
    "titanic_test_df_adj = titanic_test_df.copy()\n",
    "titanic_test_df_adj[\"Age\"].fillna(28, inplace = True)\n",
    "titanic_test_df_adj.drop(\"Cabin\", axis = 1, inplace = True)"
   ]
  },
  {
   "cell_type": "code",
   "execution_count": null,
   "metadata": {},
   "outputs": [],
   "source": [
    "# instead of Embarked we have to take a look at the variable \"Fare\" that has one missing value\n",
    "# compute mean\n",
    "titanic_test_df[\"Fare\"].mean(skipna=True)"
   ]
  },
  {
   "cell_type": "code",
   "execution_count": null,
   "metadata": {},
   "outputs": [],
   "source": [
    "# compute median\n",
    "titanic_test_df[\"Fare\"].median(skipna=True)"
   ]
  },
  {
   "cell_type": "code",
   "execution_count": null,
   "metadata": {
    "collapsed": true
   },
   "outputs": [],
   "source": [
    "titanic_test_df_adj[\"Fare\"].fillna(14.45, inplace = True)"
   ]
  },
  {
   "cell_type": "code",
   "execution_count": null,
   "metadata": {},
   "outputs": [],
   "source": [
    "# create additional variable for traveling alone\n",
    "titanic_test_df_adj[\"TravelAlone\"] = np.where(titanic_test_df_adj[\"SibSp\"]+titanic_test_df_adj[\"Parch\"] > 0, 0, 1)\n",
    "titanic_test_df_adj.drop(\"SibSp\", axis = 1, inplace = True)\n",
    "titanic_test_df_adj.drop(\"Parch\", axis = 1, inplace = True)"
   ]
  },
  {
   "cell_type": "code",
   "execution_count": null,
   "metadata": {},
   "outputs": [],
   "source": [
    "#titanic_test_df_adj_2 = pd.get_dummies(titanic_test_df_adj, columns = [\"Sex\", \"Embarked\", \"Pclass\"])\n",
    "titanic_test_df_adj_2 = titanic_test_df_adj.copy()\n",
    "# change type and encode 'Sex' to 1 = male, 0 = female\n",
    "titanic_test_df_adj_2[\"Sex\"] = titanic_test_df_adj_2[\"Sex\"].astype('category')\n",
    "titanic_test_df_adj_2[\"Sex_code\"] = titanic_test_df_adj_2[\"Sex\"].cat.codes\n",
    "# create dummy variables of 'Embarked' \n",
    "titanic_test_df_adj_2 = pd.get_dummies(titanic_test_df_adj_2, columns = [\"Embarked\"])\n",
    "# drop unnecessary variables\n",
    "titanic_test_df_adj_2.drop(\"PassengerId\", axis = 1 ,inplace = True)\n",
    "titanic_test_df_adj_2.drop(\"Ticket\", axis = 1 ,inplace = True)\n",
    "titanic_test_df_adj_2.drop(\"Name\", axis = 1 ,inplace = True)\n",
    "titanic_test_df_adj_2.drop(\"Sex\", axis = 1 ,inplace = True)\n",
    "\n",
    "test_final = titanic_test_df_adj_2\n",
    "test_final.head(5)\n",
    "#--------------------------------------------------------------------------------------------------"
   ]
  },
  {
   "cell_type": "markdown",
   "metadata": {},
   "source": [
    "### 4. Exploratory Data Analysis\n",
    "#### Exercise 4.1.\n",
    "********************\n",
    "We want to plot the distribution of 'Age' conditioned 'Survived = yes' or 'Survived = no'. \n",
    "<br> <br>\n",
    "A) Add missing information and then run the code. What can you say about the age distribution? <br>\n",
    "B) Add a barplot (package seaborn). What do you notice? <br>\n",
    "C) Create a new dummy variable \"Is_Minor\" where the value is set to 1 if the passenger is under 16. \n",
    "********************\n",
    "#### Age "
   ]
  },
  {
   "cell_type": "code",
   "execution_count": null,
   "metadata": {},
   "outputs": [],
   "source": [
    "plt.figure(figsize = (17,8))\n",
    "#---------------------------------Exercise 4.1.------------------------------------------------\n",
    "# A\n",
    "sns.kdeplot(train_final[\"Age\"][#TO DO], color = 'r', shade = True)\n",
    "sns.kdeplot(train_final[\"Age\"][#TO DO], color = 'b', shade = True)\n",
    "\n",
    "plt.legend(['Survived', 'Died'])\n",
    "plt.show()"
   ]
  },
  {
   "cell_type": "code",
   "execution_count": null,
   "metadata": {},
   "outputs": [],
   "source": [
    "# B\n",
    "plt.figure(figsize = (20,8))\n",
    "sns.barplot(#TO DO)\n",
    "plt.show()"
   ]
  },
  {
   "cell_type": "markdown",
   "metadata": {},
   "source": [
    "Considering the survival rate of passengers under 16, we will include another categorical variable in our dataset: \"Is_Minor\""
   ]
  },
  {
   "cell_type": "code",
   "execution_count": null,
   "metadata": {
    "collapsed": true
   },
   "outputs": [],
   "source": [
    "# C\n",
    "# add a variable 'Minor', which is set to 1 if the person is under 16\n",
    "train_final['Is_Minor'] = np.where(#TO DO)\n",
    "test_final['Is_Minor'] = np.where(#TO DO)\n",
    "#----------------------------------------------------------------------------------------------"
   ]
  },
  {
   "cell_type": "markdown",
   "metadata": {},
   "source": [
    "#### Fare\n",
    "#### Exercise 4.2\n",
    "********************\n",
    "Plot the distribution of 'Fare' conditioned 'Survived = yes' or 'Survived = no'. Add missing information and then run the code. What can you say about the distribution of 'Fare'? \n",
    "********************"
   ]
  },
  {
   "cell_type": "code",
   "execution_count": null,
   "metadata": {},
   "outputs": [],
   "source": [
    "#---------------------------------Exercise 4.2.------------------------------------------------\n",
    "plt.figure(figsize = (17,8))\n",
    "sns.kdeplot(train_final[\"Fare\"][#TO DO], color = 'r', shade = True)\n",
    "sns.kdeplot(train_final[\"Fare\"][#TO DO], color = 'b', shade = True)\n",
    "plt.legend(['Survived', 'Died'])\n",
    "plt.show()\n",
    "#----------------------------------------------------------------------------------------------"
   ]
  },
  {
   "cell_type": "markdown",
   "metadata": {},
   "source": [
    "As the distributions are different, it's likely that 'Fare' would be a significant predictor in our model. Passengers with lower fares seem to have been less likely to survive. "
   ]
  },
  {
   "cell_type": "markdown",
   "metadata": {},
   "source": [
    "#### Passenger Class \n",
    "#### Exercise 4.3\n",
    "********************\n",
    "Let's check if there is a correlation with the Passenger Class with a cross table. Add missing information and run the code! What can you see?\n",
    "********************"
   ]
  },
  {
   "cell_type": "code",
   "execution_count": null,
   "metadata": {},
   "outputs": [],
   "source": [
    "#---------------------------------Exercise 4.3.------------------------------------------------\n",
    "pd.crosstab(#TO DO , margins = True, normalize = 'index')\n",
    "#----------------------------------------------------------------------------------------------"
   ]
  },
  {
   "cell_type": "markdown",
   "metadata": {},
   "source": [
    "As expected, it was safest to be a first class passenger."
   ]
  },
  {
   "cell_type": "markdown",
   "metadata": {},
   "source": [
    "#### Embarked\n",
    "#### Exercise 4.4.\n",
    "********************\n",
    "Explore if there is any correlation with Port of Embarkation ('Embarked')... Add missing information and run the code! What can you see?\n",
    "********************"
   ]
  },
  {
   "cell_type": "code",
   "execution_count": null,
   "metadata": {},
   "outputs": [],
   "source": [
    "#---------------------------------Exercise 4.4.------------------------------------------------\n",
    "pd.crosstab(#TO DO , margins = True, normalize = 'index' )\n",
    "#----------------------------------------------------------------------------------------------"
   ]
  },
  {
   "cell_type": "markdown",
   "metadata": {},
   "source": [
    "Passengers who boarded in Cherbourg, France, appear to have the highest survival rate."
   ]
  },
  {
   "cell_type": "markdown",
   "metadata": {},
   "source": [
    "#### TravelAlone\n",
    "#### Exercise 4.5.\n",
    "********************\n",
    "Investigate if there is any difference between traveling alone and with family ... Add missing information and run the code! What can you see?\n",
    "********************"
   ]
  },
  {
   "cell_type": "code",
   "execution_count": null,
   "metadata": {},
   "outputs": [],
   "source": [
    "#---------------------------------Exercise 4.5.------------------------------------------------\n",
    "pd.crosstab(#TO DO, margins = True, normalize = 'index' )\n",
    "#----------------------------------------------------------------------------------------------"
   ]
  },
  {
   "cell_type": "markdown",
   "metadata": {},
   "source": [
    "Traveling with the family appears to be safer than traveling alone."
   ]
  },
  {
   "cell_type": "markdown",
   "metadata": {},
   "source": [
    "#### Gender\n",
    "#### Exercise 4.6.\n",
    "********************\n",
    "Investigate if there is any difference between men and women ... Add missing information and run the code! What can you see? Use here a barplot below to visualize the values.\n",
    "********************"
   ]
  },
  {
   "cell_type": "code",
   "execution_count": null,
   "metadata": {},
   "outputs": [],
   "source": [
    "#---------------------------------Exercise 4.5.------------------------------------------------\n",
    "pd.crosstab(#TO DO , margins = True, normalize = 'index' )"
   ]
  },
  {
   "cell_type": "code",
   "execution_count": null,
   "metadata": {},
   "outputs": [],
   "source": [
    "# Let's use here a barplot for visualization\n",
    "sns.barplot('Sex', 'Survived', data = titanic_train_df_adj, color=\"aquamarine\")\n",
    "plt.show()\n",
    "#----------------------------------------------------------------------------------------------"
   ]
  },
  {
   "cell_type": "markdown",
   "metadata": {},
   "source": [
    "There is a very obvious difference -  being female strongly increased your chance to survive."
   ]
  },
  {
   "cell_type": "markdown",
   "metadata": {},
   "source": [
    "### 5. Data Analysis"
   ]
  },
  {
   "cell_type": "markdown",
   "metadata": {},
   "source": [
    "We will use a logistic regression to predict the likelihood of survival using the train_final dataset for the training. "
   ]
  },
  {
   "cell_type": "code",
   "execution_count": null,
   "metadata": {},
   "outputs": [],
   "source": [
    "train_final.head(5)"
   ]
  },
  {
   "cell_type": "markdown",
   "metadata": {},
   "source": [
    "#### Exercise 5.1.\n",
    "********************\n",
    "Add the missing information and run the code lines. <br><br>\n",
    "A) For your first model we suggest to select the following <br>\n",
    "independent variables: \"Pclass\", \"Age\", \"Fare\", \"TravelAlone\", \"Sex_code\", \"Embarked_C\", \"Embarked_Q\", \"Is_Minor\" <br>\n",
    "and the following dependent/target variable: \"Survived\" .<br>\n",
    "B) Use the **Logit(...)** function from package we called **sm** to build the model. <br>\n",
    "C) Take a look at the output (_Hint:_ **summary()**): In the column'P >|z|' you find the p-values for the variables. Which variables are significant at the 0.05 alpha level (p < 0.05)?\n",
    "********************"
   ]
  },
  {
   "cell_type": "code",
   "execution_count": null,
   "metadata": {},
   "outputs": [],
   "source": [
    "#---------------------------------Exercise 5.1.------------------------------------------------\n",
    "# select variables for your first model\n",
    "# A\n",
    "cols = [#TO DO]\n",
    "X_1 = train_final[cols]\n",
    "# set the target variable\n",
    "Y_1 = train_final[#TO DO]\n",
    "# B\n",
    "# logistic regression model \n",
    "logit_model_1 = #TO DO\n",
    "# fit the best model\n",
    "result_1 = logit_model_1.fit()\n",
    "# C\n",
    "print(#TO DO)\n",
    "#----------------------------------------------------------------------------------------------"
   ]
  },
  {
   "cell_type": "markdown",
   "metadata": {},
   "source": [
    "#### Exercise 5.2.\n",
    "********************\n",
    "Run the following cell to compute the prediction score. \n",
    "********************"
   ]
  },
  {
   "cell_type": "code",
   "execution_count": null,
   "metadata": {},
   "outputs": [],
   "source": [
    "#---------------------------------Exercise 5.2.------------------------------------------------\n",
    "# predict train labels\n",
    "logreg = LogisticRegression()\n",
    "logreg.fit(X_1, Y_1)\n",
    "logreg.score(X_1, Y_1)\n",
    "#----------------------------------------------------------------------------------------------"
   ]
  },
  {
   "cell_type": "markdown",
   "metadata": {},
   "source": [
    "#### Exercise 5.3.\n",
    "********************\n",
    "We will test the 80 - 20 cross validation. <br> \n",
    "A) Split your **labeled** data into train and test data (_Hint:_ Function **train_test_split(...)**). <br> \n",
    "B) Use the same columns for your prediction. <br> \n",
    "C) Compute the model score after training <br> \n",
    "D) Test the model with the test values you created in A) <br> \n",
    "********************\n"
   ]
  },
  {
   "cell_type": "code",
   "execution_count": null,
   "metadata": {},
   "outputs": [],
   "source": [
    "#---------------------------------Exercise 5.3.------------------------------------------------\n",
    "# A\n",
    "train, test = #TO DO\n",
    "# B\n",
    "cols = #TO DO\n",
    "X_2 = train[cols]\n",
    "Y_2 = train[#TO DO]\n",
    "logit_model_2 = sm.Logit(#TO DO)\n",
    "result_2 = logit_model_2.fit()\n",
    "print(result_2.summary())"
   ]
  },
  {
   "cell_type": "code",
   "execution_count": null,
   "metadata": {},
   "outputs": [],
   "source": [
    "# C\n",
    "#TO DO"
   ]
  },
  {
   "cell_type": "code",
   "execution_count": null,
   "metadata": {},
   "outputs": [],
   "source": [
    "# D\n",
    "#predict test labels\n",
    "X_2_test = #TO DO\n",
    "Y_2_test = #TO DO\n",
    "Y_2_test_pred = logreg.predict(X_2_test)\n",
    "print('Accuracy of logistic regression classifier on test set: {:.2f}'.format(logreg.score(X_2_test, Y_2_test)))\n",
    "#----------------------------------------------------------------------------------------------"
   ]
  },
  {
   "cell_type": "markdown",
   "metadata": {},
   "source": [
    "The model's out of sample performance show similar results."
   ]
  },
  {
   "cell_type": "markdown",
   "metadata": {},
   "source": [
    "#### Random Forest with 100 trees\n",
    "#### Exercise 5.4.\n",
    "********************\n",
    "A) Run the following lines to build a Random Forest model for prediction. <br>\n",
    "B) Predict for the test values and count how many people would survive according to these values. (We have only unlabeled test data, so we can't use it to compute the accuracy.)\n",
    "********************"
   ]
  },
  {
   "cell_type": "code",
   "execution_count": null,
   "metadata": {},
   "outputs": [],
   "source": [
    "#---------------------------------Exercise 5.4.------------------------------------------------\n",
    "# A\n",
    "random_forest = RandomForestClassifier(n_estimators=100)\n",
    "random_forest.fit(X_2, Y_2)\n",
    "random_forest.score(X_2, Y_2)"
   ]
  },
  {
   "cell_type": "code",
   "execution_count": null,
   "metadata": {
    "collapsed": true
   },
   "outputs": [],
   "source": [
    "random_forest.score(test[cols], test['Survived'])"
   ]
  },
  {
   "cell_type": "code",
   "execution_count": null,
   "metadata": {},
   "outputs": [],
   "source": [
    "# B\n",
    "# predict for the test values\n",
    "Y_pred_RF = random_forest.predict(test[cols])\n",
    "Y_pred_RF_0_1 = #TO DO\n",
    "#TO DO\n",
    "#----------------------------------------------------------------------------------------------"
   ]
  },
  {
   "cell_type": "markdown",
   "metadata": {},
   "source": [
    "#### Decision Tree\n",
    "Compare the results with a decision tree.\n",
    "#### Exercise 5.5.\n",
    "********************\n",
    "A) Run the following lines to build a Decision tree model for prediction. <br>\n",
    "B) Predict for the test values and count how many people would survive according to these values. (We have only unlabeled test data, so we can't use it to compute the accuracy.) <br>\n",
    "C) Visualize the tree and interpret the result.\n",
    "********************"
   ]
  },
  {
   "cell_type": "code",
   "execution_count": null,
   "metadata": {},
   "outputs": [],
   "source": [
    "# A\n",
    "tree_1 = tree.DecisionTreeClassifier(criterion='gini', splitter='best',max_depth=3, min_samples_leaf=20)\n",
    "tree_1.fit(X_2, Y_2)"
   ]
  },
  {
   "cell_type": "code",
   "execution_count": null,
   "metadata": {},
   "outputs": [],
   "source": [
    "# B\n",
    "Y_pred_DT = tree_1.predict(test_final[cols])\n",
    "Y_pred_DT_0_1 = #TO DO\n",
    "#TO DO"
   ]
  },
  {
   "cell_type": "code",
   "execution_count": null,
   "metadata": {},
   "outputs": [],
   "source": [
    "# C\n",
    "import graphviz \n",
    "tree_1_view = tree.export_graphviz(tree_1, out_file=None, feature_names = X_DT.columns.values, rotate=True) \n",
    "tree_1_viz = graphviz.Source(tree_1_view)\n",
    "tree_1_viz"
   ]
  }
 ],
 "metadata": {
  "kernelspec": {
   "display_name": "Python 3",
   "language": "python",
   "name": "python3"
  },
  "language_info": {
   "codemirror_mode": {
    "name": "ipython",
    "version": 3
   },
   "file_extension": ".py",
   "mimetype": "text/x-python",
   "name": "python",
   "nbconvert_exporter": "python",
   "pygments_lexer": "ipython3",
   "version": "3.7.8"
  }
 },
 "nbformat": 4,
 "nbformat_minor": 2
}
