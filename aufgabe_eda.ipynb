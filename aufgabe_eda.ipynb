{
 "cells": [
  {
   "cell_type": "markdown",
   "metadata": {},
   "source": [
    "# EXPLORATORY DATA ANALYSIS -- PRAKTISCHE ÜBUNG\n",
    "\n",
    "Die Datei `stromverbrauch_abweichung_FR_2017.csv` im Verzeichnis [data](data) enthält eine Zeitreihe der Abweichungen (in Gigawattstunden) zwischen dem prognostizierten und dem tatsächlichen Stromverbrauch im Jahr 2017 in Frankreich (positiver Wert: Stromüberschuss, negativer Wert: Stromdefizit).\n",
    "Da jegliche Abweichungen mit kostenintensiver Regelenergie ausgeglichen werden müssen, liegt die Minimierung solcher Abweichungen im Interesse eines Stromhändlers.\n",
    "\n",
    "Als Neueinsteiger im Analytics-Bereich eines Stromhändlers ist deine erste Aufgabe, auf mögliche Zusammenhänge zwischen Wetterfaktoren und Abweichungen zu untersuchen.\n",
    "Etwas konkreter sollst du folgende Hypothese angehen:\n",
    "> Die Abweichungen im Stromverbrauch sind von den Abweichungen zwischen zu erwartenden und tatsächlichen Temperaturwerten abhängig, und zwar saisonsbedingt:\n",
    ">  Fällt ein Sommer heißer (bzw. ein Winter kälter) aus als erwartet, so ist es mit höherem Stromverbrauch als prognostiziert zu rechnen und vice versa.\n",
    "\n",
    "Dazu wurden dir in der Datei `asos_six_cities.csv` im Verzeichnis [data](data) Temperaturmessungen aus den unten aufgeführten Wetterstationen in Frankreich zur Verfügung gestellt:\n",
    "- LFBO Toulousse\n",
    "- LFLY Lyon\n",
    "- LFML Marseille\n",
    "- LFPB Paris\n",
    "- LFRS Nantes\n",
    "- LFQQ Lille\n",
    "\n",
    "### Hinweise\n",
    "- Dokumentiere deine Analyse in diesem Jupyter-Notebook.\n",
    "- Skizziere an erster Stelle einen groben Plan (versuche, den Plan im Rahmen eines CRISP-DM einzubetten). Dein Plan soll u.a. auf folgende Fragestellungen abzielen:\n",
    "  - Welche Erkenntnisse möchtest du aus den Daten gewinnen? Formuliere sie als konkrete Hypothesen.\n",
    "  - Welche Analysemethoden könntest du einsetzen, um eben solche Erkenntnisse erzielen? Als Faustregel ist es ratsam, zunächst einfachere Modelle zu betrachten.\n",
    "  - Welche Datentypen (z.B. stetig, diskret, nominal, ordinal) sind relevant für deine Analyse?\n",
    "  - Welche Anforderungen an den Daten (bspw. bzgl. Auflösung, zeitlichen Rahmen) setzt dein Ansatz voraus?\n",
    "- Untersuche auf mögliche Mängel in den vorgegebenen Datensätze (bspw. fehlende Einträge, Formattierung, Ausreißer, Vollständigkeit, etc.).\n",
    "- Bereite dementsprechend die Daten für deine Analyse auf.\n",
    "- Prüfe deine Hypothesen anhand der aufbereiteten Daten.\n",
    "- Inwiefern bilden deine Erkenntisse die ursprünglichen Ziele ab?\n",
    "- Wie könnte dein Ansatz ergänzt werden (mit welchen Daten/Methoden/Technologien?)\n",
    "- Falls du dein Ansatz auf andere (teilweise vollständigeren) Datensätze übertragen möchtest können folgende Links ein guter Startpunkt sein:\n",
    "  - Historische Daten aus dem nordischen Strommarkt: https://www.nordpoolgroup.com/historical-market-data/ (siehe insb. Kategorien \"Consumption\" und \"Consumption prognosis\")\n",
    "  - Historische Temperaturmessungen: https://mesonet.agron.iastate.edu/request/download.phtml?network=SE__ASOS\n",
    "\n",
    "\n"
   ]
  }
 ],
 "metadata": {
  "kernelspec": {
   "display_name": "Python 3.8.4 64-bit ('.venv': venv)",
   "name": "python384jvsc74a57bd03de7ba8c1bccffca8908914bfd5cfe20345d46f12e3502dea90f71149a8a015f"
  },
  "language_info": {
   "name": "python",
   "version": ""
  },
  "orig_nbformat": 2
 },
 "nbformat": 4,
 "nbformat_minor": 2
}